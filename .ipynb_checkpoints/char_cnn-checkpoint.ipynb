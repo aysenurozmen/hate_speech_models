{
 "cells": [
  {
   "cell_type": "code",
   "execution_count": 1,
   "id": "33f9a121-124b-410b-9a43-082e8fe80449",
   "metadata": {},
   "outputs": [],
   "source": [
    "# Character-Level CNN model from https://doi.org/10.3390/app131911104"
   ]
  },
  {
   "cell_type": "code",
   "execution_count": 2,
   "id": "dbe97993-7f3c-407f-af36-2694e12fe2b6",
   "metadata": {},
   "outputs": [
    {
     "name": "stdout",
     "output_type": "stream",
     "text": [
      "WARNING:tensorflow:From C:\\Users\\aysen\\anaconda3\\envs\\hate_speech_classification\\Lib\\site-packages\\keras\\src\\losses.py:2976: The name tf.losses.sparse_softmax_cross_entropy is deprecated. Please use tf.compat.v1.losses.sparse_softmax_cross_entropy instead.\n",
      "\n"
     ]
    }
   ],
   "source": [
    "import tensorflow as tf\n",
    "from keras.preprocessing.text import Tokenizer\n",
    "from keras.preprocessing.sequence import pad_sequences\n",
    "from keras.models import Sequential\n",
    "from keras.layers import Conv1D, MaxPooling1D, Flatten, Dense, Dropout, LSTM\n",
    "from keras.optimizers import Adam\n",
    "from keras.callbacks import EarlyStopping\n",
    "from sklearn.model_selection import train_test_split\n",
    "from sklearn.metrics import accuracy_score, classification_report, f1_score\n",
    "from sklearn.preprocessing import LabelEncoder\n",
    "import pandas as pd\n",
    "import re\n",
    "from html import unescape\n",
    "import numpy as np\n",
    "import matplotlib.pyplot as plt\n",
    "import matplotlib.pyplot as plt\n",
    "from matplotlib.ticker import MultipleLocator, FormatStrFormatter"
   ]
  },
  {
   "cell_type": "code",
   "execution_count": 3,
   "id": "bf4f38df-0e7f-4c39-8aee-66afff18e74f",
   "metadata": {},
   "outputs": [],
   "source": [
    "# Data cleaning from https://doi.org/10.3390/app131911104\n",
    "def preprocess_text(text):\n",
    "    \n",
    "    # Step 1: Decoding HTML\n",
    "    decoded_text = unescape(text)\n",
    "    \n",
    "    # Step 2: Removal of emoticons\n",
    "    decoded_text = re.sub(r'[\\U00010000-\\U0010ffff]', '', decoded_text)\n",
    "    \n",
    "    # Step 3: Removal of mentions (usernames)\n",
    "    decoded_text = re.sub(r'@\\w+', '', decoded_text)\n",
    "    \n",
    "    # Step 4: Removal of URL links\n",
    "    decoded_text = re.sub(r'https?://\\S+|www\\.\\S+', '', decoded_text)\n",
    "    \n",
    "    # Step 5: Conversion to lower case\n",
    "    decoded_text = decoded_text.lower()\n",
    "    \n",
    "    # Step 6: Expansion of negations\n",
    "    decoded_text = re.sub(r\"can't\", 'cannot', decoded_text)\n",
    "    # Add more negations as needed\n",
    "    \n",
    "    # Step 7: Removal of hashtags, punctuation marks, numbers, and special characters\n",
    "    decoded_text = re.sub(r'#[\\w_]+', '', decoded_text)\n",
    "    decoded_text = re.sub(r'[^a-zA-Z\\s]', '', decoded_text)\n",
    "    \n",
    "    # Step 8: Removal of extra white spaces\n",
    "    decoded_text = re.sub(r'\\s+', ' ', decoded_text).strip()\n",
    "    \n",
    "    return decoded_text\n",
    "    "
   ]
  },
  {
   "cell_type": "code",
   "execution_count": 4,
   "id": "7946e18b-6f54-4763-8006-179ede9d540c",
   "metadata": {},
   "outputs": [],
   "source": [
    "def text_to_one_hot(text):\n",
    "    \n",
    "    # English character set\n",
    "    alphabet = \"abcdefghijklmnopqrstuvwxyz \"\n",
    "    unknown_char = \"UNK\"\n",
    "\n",
    "    # Create character-to-index mapping\n",
    "    char_to_index = {char: i for i, char in enumerate(alphabet, start=1)}  # Start index from 1\n",
    "    char_to_index[unknown_char] = 0  # Index 0 for unknown characters\n",
    "\n",
    "    # Preprocess input text\n",
    "    preprocessed_text = preprocess_text(text)\n",
    "\n",
    "    # Tokenize the text into character indices\n",
    "    tokenized_text = [char_to_index.get(char.lower(), char_to_index[unknown_char]) for char in preprocessed_text]\n",
    "\n",
    "    # Zero-pad to fix the length to 330 characters -> Max length of input texts is 349 without preprocess, 326 with preprocess\n",
    "    max_length = 330\n",
    "    padded_text = pad_sequences([tokenized_text], maxlen=max_length, padding='post', truncating='post')[0]\n",
    "\n",
    "    # One-hot encoding\n",
    "    one_hot_encoding = np.eye(len(alphabet) + 1)[padded_text]  # +1 for the unknown character\n",
    "\n",
    "    return one_hot_encoding\n",
    "    "
   ]
  },
  {
   "cell_type": "code",
   "execution_count": 5,
   "id": "65d9b644-a197-4a54-a9a0-917c39cb64e4",
   "metadata": {},
   "outputs": [],
   "source": [
    "# Load datasets\n",
    "train_df = pd.read_csv(\"C:\\\\Users\\\\aysen\\\\Documents\\\\GitHub\\\\hate_speech_models\\\\data\\\\annotations_metadata_train.csv\")\n",
    "test_df = pd.read_csv(\"C:\\\\Users\\\\aysen\\\\Documents\\\\GitHub\\\\hate_speech_models\\\\data\\\\annotations_metadata_test.csv\")\n",
    "\n",
    "# Text preprocessing\n",
    "X_train_one_hot = train_df['text'].apply(text_to_one_hot)\n",
    "X_test_one_hot = test_df['one_hot'] = test_df['text'].apply(text_to_one_hot)\n",
    "\n",
    "# Binary label encoding\n",
    "y_train = (train_df['label'] == 'hate').astype(int)\n",
    "y_test = (test_df['label'] == 'hate').astype(int)\n",
    "\n",
    "# Convert pandas series to tensorflow tensors\n",
    "X_train_tensor = tf.convert_to_tensor(X_train_one_hot.tolist(), dtype=tf.float32)\n",
    "X_test_tensor = tf.convert_to_tensor(X_test_one_hot.tolist(), dtype=tf.float32)\n",
    "\n",
    "y_train_tensor = tf.convert_to_tensor(y_train, dtype=tf.float32)\n",
    "y_test_tensor = tf.convert_to_tensor(y_test, dtype=tf.float32)"
   ]
  },
  {
   "cell_type": "code",
   "execution_count": 6,
   "id": "2059ce71-c0a8-4670-a257-839a45b90851",
   "metadata": {},
   "outputs": [
    {
     "name": "stdout",
     "output_type": "stream",
     "text": [
      "WARNING:tensorflow:From C:\\Users\\aysen\\anaconda3\\envs\\hate_speech_classification\\Lib\\site-packages\\keras\\src\\backend.py:873: The name tf.get_default_graph is deprecated. Please use tf.compat.v1.get_default_graph instead.\n",
      "\n",
      "WARNING:tensorflow:From C:\\Users\\aysen\\anaconda3\\envs\\hate_speech_classification\\Lib\\site-packages\\keras\\src\\backend.py:6642: The name tf.nn.max_pool is deprecated. Please use tf.nn.max_pool2d instead.\n",
      "\n"
     ]
    }
   ],
   "source": [
    "# Char-Level CNN Model\n",
    "input_shape = (330, 28)\n",
    "\n",
    "char_cnn_model = Sequential([\n",
    "    \n",
    "    # Three convolution layers\n",
    "    Conv1D(100, kernel_size=3, strides=1, padding='valid', activation='relu', input_shape=input_shape),\n",
    "    Conv1D(100, kernel_size=3, strides=1, padding='valid', activation='relu'),\n",
    "    MaxPooling1D(pool_size=3),\n",
    "    Conv1D(100, kernel_size=3, strides=1, padding='valid', activation='relu'),\n",
    "    MaxPooling1D(pool_size=3),\n",
    "    \n",
    "    # Flatten layer\n",
    "    Flatten(),\n",
    "\n",
    "    # Two fully connected layers with dropout\n",
    "    Dense(1024, activation='relu'),\n",
    "    Dropout(0.5),\n",
    "    Dense(1024, activation='relu'),\n",
    "    Dropout(0.5),\n",
    "\n",
    "    # Output layer\n",
    "    Dense(units=1, activation='sigmoid')\n",
    "])\n",
    "\n"
   ]
  },
  {
   "cell_type": "code",
   "execution_count": 7,
   "id": "1b854455-bd62-4a6d-be1a-4d2dd09c618d",
   "metadata": {},
   "outputs": [],
   "source": [
    "# Hyperparameters\n",
    "epochs = 10\n",
    "batch_size = 32\n",
    "learning_rate = 0.001"
   ]
  },
  {
   "cell_type": "code",
   "execution_count": 8,
   "id": "c5d2b599-17f4-4b45-97d4-37eed6d3b6c1",
   "metadata": {},
   "outputs": [
    {
     "name": "stdout",
     "output_type": "stream",
     "text": [
      "Model: \"sequential\"\n",
      "_________________________________________________________________\n",
      " Layer (type)                Output Shape              Param #   \n",
      "=================================================================\n",
      " conv1d (Conv1D)             (None, 328, 100)          8500      \n",
      "                                                                 \n",
      " conv1d_1 (Conv1D)           (None, 326, 100)          30100     \n",
      "                                                                 \n",
      " max_pooling1d (MaxPooling1  (None, 108, 100)          0         \n",
      " D)                                                              \n",
      "                                                                 \n",
      " conv1d_2 (Conv1D)           (None, 106, 100)          30100     \n",
      "                                                                 \n",
      " max_pooling1d_1 (MaxPoolin  (None, 35, 100)           0         \n",
      " g1D)                                                            \n",
      "                                                                 \n",
      " flatten (Flatten)           (None, 3500)              0         \n",
      "                                                                 \n",
      " dense (Dense)               (None, 1024)              3585024   \n",
      "                                                                 \n",
      " dropout (Dropout)           (None, 1024)              0         \n",
      "                                                                 \n",
      " dense_1 (Dense)             (None, 1024)              1049600   \n",
      "                                                                 \n",
      " dropout_1 (Dropout)         (None, 1024)              0         \n",
      "                                                                 \n",
      " dense_2 (Dense)             (None, 1)                 1025      \n",
      "                                                                 \n",
      "=================================================================\n",
      "Total params: 4704349 (17.95 MB)\n",
      "Trainable params: 4704349 (17.95 MB)\n",
      "Non-trainable params: 0 (0.00 Byte)\n",
      "_________________________________________________________________\n"
     ]
    }
   ],
   "source": [
    "# Compile the model\n",
    "char_cnn_model.compile(loss='binary_crossentropy',  optimizer=Adam(learning_rate=learning_rate), metrics=['accuracy'])\n",
    "\n",
    "# Print the model summary\n",
    "char_cnn_model.summary()"
   ]
  },
  {
   "cell_type": "code",
   "execution_count": 9,
   "id": "86a7a76c-1db5-4a1e-8c56-5511df899bc5",
   "metadata": {},
   "outputs": [
    {
     "name": "stdout",
     "output_type": "stream",
     "text": [
      "Epoch 1/10\n",
      "WARNING:tensorflow:From C:\\Users\\aysen\\anaconda3\\envs\\hate_speech_classification\\Lib\\site-packages\\keras\\src\\utils\\tf_utils.py:492: The name tf.ragged.RaggedTensorValue is deprecated. Please use tf.compat.v1.ragged.RaggedTensorValue instead.\n",
      "\n",
      "WARNING:tensorflow:From C:\\Users\\aysen\\anaconda3\\envs\\hate_speech_classification\\Lib\\site-packages\\keras\\src\\engine\\base_layer_utils.py:384: The name tf.executing_eagerly_outside_functions is deprecated. Please use tf.compat.v1.executing_eagerly_outside_functions instead.\n",
      "\n",
      "48/48 [==============================] - 4s 53ms/step - loss: 0.6816 - accuracy: 0.5865 - val_loss: 0.6780 - val_accuracy: 0.5849\n",
      "Epoch 2/10\n",
      "48/48 [==============================] - 2s 48ms/step - loss: 0.6510 - accuracy: 0.6368 - val_loss: 0.6167 - val_accuracy: 0.6710\n",
      "Epoch 3/10\n",
      "48/48 [==============================] - 2s 49ms/step - loss: 0.6279 - accuracy: 0.6492 - val_loss: 0.6059 - val_accuracy: 0.6736\n",
      "Epoch 4/10\n",
      "48/48 [==============================] - 2s 48ms/step - loss: 0.6177 - accuracy: 0.6499 - val_loss: 0.6579 - val_accuracy: 0.6423\n",
      "Epoch 5/10\n",
      "48/48 [==============================] - 2s 48ms/step - loss: 0.5490 - accuracy: 0.7146 - val_loss: 0.6064 - val_accuracy: 0.6606\n",
      "Epoch 6/10\n",
      "48/48 [==============================] - 2s 49ms/step - loss: 0.4192 - accuracy: 0.8125 - val_loss: 0.6924 - val_accuracy: 0.6762\n"
     ]
    }
   ],
   "source": [
    "# Early stopping\n",
    "callback = EarlyStopping(monitor='val_loss', patience=3)\n",
    "\n",
    "# Train the model\n",
    "char_cnn_history = char_cnn_model.fit(X_train_tensor, y_train, epochs=10, batch_size=32, validation_split=0.2, callbacks=[callback])"
   ]
  },
  {
   "cell_type": "code",
   "execution_count": 10,
   "id": "ad61a21f-432b-4cea-a28e-6721c4fa62af",
   "metadata": {},
   "outputs": [],
   "source": [
    "def plot_results(metrics, title=None, ylabel=None, ylim=None, metric_name=None, color=None):\n",
    "     \n",
    "    fig, ax = plt.subplots(figsize=(10, 4))\n",
    " \n",
    "    if not (isinstance(metric_name, list) or isinstance(metric_name, tuple)):\n",
    "        metrics = [metrics,]\n",
    "        metric_name = [metric_name,]\n",
    "         \n",
    "    for idx, metric in enumerate(metrics):    \n",
    "        ax.plot(metric, color=color[idx])\n",
    "     \n",
    "    plt.xlabel(\"Epoch\")\n",
    "    plt.ylabel(ylabel)\n",
    "    plt.title(title)\n",
    "    plt.xlim([0, epochs-1])\n",
    "    plt.ylim(ylim)\n",
    "    # Tailor x-axis tick marks\n",
    "    ax.xaxis.set_major_locator(MultipleLocator(1))\n",
    "    ax.xaxis.set_major_formatter(FormatStrFormatter('%d'))\n",
    "    ax.xaxis.set_minor_locator(MultipleLocator(1))\n",
    "    plt.grid(True)\n",
    "    plt.legend(metric_name)   \n",
    "    plt.show()\n",
    "    plt.close()\n",
    "    "
   ]
  },
  {
   "cell_type": "code",
   "execution_count": 11,
   "id": "837474a0-300b-4441-af43-672f7427e89f",
   "metadata": {},
   "outputs": [
    {
     "data": {
      "image/png": "[encoded data removed]",
      "text/plain": [
       "<Figure size 1000x400 with 1 Axes>"
      ]
     },
     "metadata": {},
     "output_type": "display_data"
    },
    {
     "data": {
      "image/png": "[encoded data removed]",
      "text/plain": [
       "<Figure size 1000x400 with 1 Axes>"
      ]
     },
     "metadata": {},
     "output_type": "display_data"
    }
   ],
   "source": [
    "# Retrieve training results\n",
    "train_loss = char_cnn_history.history[\"loss\"]\n",
    "train_acc  = char_cnn_history.history[\"accuracy\"]\n",
    "valid_loss = char_cnn_history.history[\"val_loss\"]\n",
    "valid_acc  = char_cnn_history.history[\"val_accuracy\"]\n",
    "   \n",
    "plot_results([ train_loss, valid_loss ],        \n",
    "            ylabel=\"Loss\", \n",
    "            ylim = [0.0, 2.0],\n",
    "            metric_name=[\"Training Loss\", \"Validation Loss\"],\n",
    "            color=[\"g\", \"b\"]);\n",
    " \n",
    "plot_results([ train_acc, valid_acc ], \n",
    "            ylabel=\"Accuracy\",\n",
    "            ylim = [0.0, 1.0],\n",
    "            metric_name=[\"Training Accuracy\", \"Validation Accuracy\"],\n",
    "            color=[\"g\", \"b\"])"
   ]
  },
  {
   "cell_type": "code",
   "execution_count": 12,
   "id": "d552a143-51d0-4912-8137-dc1bb5c0c71f",
   "metadata": {},
   "outputs": [
    {
     "name": "stdout",
     "output_type": "stream",
     "text": [
      "15/15 [==============================] - 0s 7ms/step - loss: 0.7263 - accuracy: 0.6172\n",
      "Test accuracy: 61.715\n",
      "15/15 [==============================] - 0s 6ms/step\n",
      "F1 Score: 0.6690777576853526\n"
     ]
    },
    {
     "name": "stderr",
     "output_type": "stream",
     "text": [
      "C:\\Users\\aysen\\anaconda3\\envs\\hate_speech_classification\\Lib\\site-packages\\sklearn\\utils\\validation.py:605: FutureWarning: is_sparse is deprecated and will be removed in a future version. Check `isinstance(dtype, pd.SparseDtype)` instead.\n",
      "  if is_sparse(pd_dtype):\n",
      "C:\\Users\\aysen\\anaconda3\\envs\\hate_speech_classification\\Lib\\site-packages\\sklearn\\utils\\validation.py:614: FutureWarning: is_sparse is deprecated and will be removed in a future version. Check `isinstance(dtype, pd.SparseDtype)` instead.\n",
      "  if is_sparse(pd_dtype) or not is_extension_array_dtype(pd_dtype):\n",
      "C:\\Users\\aysen\\anaconda3\\envs\\hate_speech_classification\\Lib\\site-packages\\sklearn\\utils\\validation.py:605: FutureWarning: is_sparse is deprecated and will be removed in a future version. Check `isinstance(dtype, pd.SparseDtype)` instead.\n",
      "  if is_sparse(pd_dtype):\n",
      "C:\\Users\\aysen\\anaconda3\\envs\\hate_speech_classification\\Lib\\site-packages\\sklearn\\utils\\validation.py:614: FutureWarning: is_sparse is deprecated and will be removed in a future version. Check `isinstance(dtype, pd.SparseDtype)` instead.\n",
      "  if is_sparse(pd_dtype) or not is_extension_array_dtype(pd_dtype):\n",
      "C:\\Users\\aysen\\anaconda3\\envs\\hate_speech_classification\\Lib\\site-packages\\sklearn\\utils\\validation.py:605: FutureWarning: is_sparse is deprecated and will be removed in a future version. Check `isinstance(dtype, pd.SparseDtype)` instead.\n",
      "  if is_sparse(pd_dtype):\n",
      "C:\\Users\\aysen\\anaconda3\\envs\\hate_speech_classification\\Lib\\site-packages\\sklearn\\utils\\validation.py:614: FutureWarning: is_sparse is deprecated and will be removed in a future version. Check `isinstance(dtype, pd.SparseDtype)` instead.\n",
      "  if is_sparse(pd_dtype) or not is_extension_array_dtype(pd_dtype):\n",
      "C:\\Users\\aysen\\anaconda3\\envs\\hate_speech_classification\\Lib\\site-packages\\sklearn\\utils\\validation.py:605: FutureWarning: is_sparse is deprecated and will be removed in a future version. Check `isinstance(dtype, pd.SparseDtype)` instead.\n",
      "  if is_sparse(pd_dtype):\n",
      "C:\\Users\\aysen\\anaconda3\\envs\\hate_speech_classification\\Lib\\site-packages\\sklearn\\utils\\validation.py:614: FutureWarning: is_sparse is deprecated and will be removed in a future version. Check `isinstance(dtype, pd.SparseDtype)` instead.\n",
      "  if is_sparse(pd_dtype) or not is_extension_array_dtype(pd_dtype):\n",
      "C:\\Users\\aysen\\anaconda3\\envs\\hate_speech_classification\\Lib\\site-packages\\sklearn\\utils\\validation.py:605: FutureWarning: is_sparse is deprecated and will be removed in a future version. Check `isinstance(dtype, pd.SparseDtype)` instead.\n",
      "  if is_sparse(pd_dtype):\n",
      "C:\\Users\\aysen\\anaconda3\\envs\\hate_speech_classification\\Lib\\site-packages\\sklearn\\utils\\validation.py:614: FutureWarning: is_sparse is deprecated and will be removed in a future version. Check `isinstance(dtype, pd.SparseDtype)` instead.\n",
      "  if is_sparse(pd_dtype) or not is_extension_array_dtype(pd_dtype):\n",
      "C:\\Users\\aysen\\anaconda3\\envs\\hate_speech_classification\\Lib\\site-packages\\sklearn\\utils\\validation.py:605: FutureWarning: is_sparse is deprecated and will be removed in a future version. Check `isinstance(dtype, pd.SparseDtype)` instead.\n",
      "  if is_sparse(pd_dtype):\n",
      "C:\\Users\\aysen\\anaconda3\\envs\\hate_speech_classification\\Lib\\site-packages\\sklearn\\utils\\validation.py:614: FutureWarning: is_sparse is deprecated and will be removed in a future version. Check `isinstance(dtype, pd.SparseDtype)` instead.\n",
      "  if is_sparse(pd_dtype) or not is_extension_array_dtype(pd_dtype):\n"
     ]
    }
   ],
   "source": [
    "test_loss, test_acc = char_cnn_model.evaluate(X_test_tensor, y_test)\n",
    "print(f\"Test accuracy: {test_acc*100:.3f}\")\n",
    "\n",
    "y_pred = char_cnn_model.predict(X_test_tensor)\n",
    "f1 = f1_score(y_test, y_pred.round())\n",
    "print(f'F1 Score: {f1}')"
   ]
  },
  {
   "cell_type": "code",
   "execution_count": 13,
   "id": "3db221b7-8187-4c26-afa0-3d467ff78c76",
   "metadata": {},
   "outputs": [],
   "source": [
    "# Char-Level CNN-LSTM Model\n",
    "input_shape = (330, 28)\n",
    "\n",
    "char_cnn_lstm_model = Sequential([\n",
    "    \n",
    "    # Three convolution layers\n",
    "    Conv1D(100, kernel_size=3, strides=1, padding='valid', activation='relu', input_shape=(330, 28)),\n",
    "    Conv1D(100, kernel_size=3, strides=1, padding='valid', activation='relu'),\n",
    "    MaxPooling1D(pool_size=3),\n",
    "    Conv1D(100, kernel_size=3, strides=1, padding='valid', activation='relu'),\n",
    "    MaxPooling1D(pool_size=3),\n",
    "\n",
    "    # LSTM layer\n",
    "    LSTM(60, dropout=0.5, recurrent_dropout=0.5),\n",
    "\n",
    "    # Max-pooling layer\n",
    "    # MaxPooling1D(pool_size=3),\n",
    "    \n",
    "    # Flatten layer\n",
    "    Flatten(),\n",
    "\n",
    "    # Output layer\n",
    "    Dense(units=1, activation='sigmoid')\n",
    "])\n",
    "\n"
   ]
  },
  {
   "cell_type": "code",
   "execution_count": 14,
   "id": "b8361d52-cf13-4bb0-9042-56bb4a8d96e6",
   "metadata": {},
   "outputs": [
    {
     "name": "stdout",
     "output_type": "stream",
     "text": [
      "Model: \"sequential_1\"\n",
      "_________________________________________________________________\n",
      " Layer (type)                Output Shape              Param #   \n",
      "=================================================================\n",
      " conv1d_3 (Conv1D)           (None, 328, 100)          8500      \n",
      "                                                                 \n",
      " conv1d_4 (Conv1D)           (None, 326, 100)          30100     \n",
      "                                                                 \n",
      " max_pooling1d_2 (MaxPoolin  (None, 108, 100)          0         \n",
      " g1D)                                                            \n",
      "                                                                 \n",
      " conv1d_5 (Conv1D)           (None, 106, 100)          30100     \n",
      "                                                                 \n",
      " max_pooling1d_3 (MaxPoolin  (None, 35, 100)           0         \n",
      " g1D)                                                            \n",
      "                                                                 \n",
      " lstm (LSTM)                 (None, 60)                38640     \n",
      "                                                                 \n",
      " flatten_1 (Flatten)         (None, 60)                0         \n",
      "                                                                 \n",
      " dense_3 (Dense)             (None, 1)                 61        \n",
      "                                                                 \n",
      "=================================================================\n",
      "Total params: 107401 (419.54 KB)\n",
      "Trainable params: 107401 (419.54 KB)\n",
      "Non-trainable params: 0 (0.00 Byte)\n",
      "_________________________________________________________________\n"
     ]
    }
   ],
   "source": [
    "# Compile the model\n",
    "char_cnn_lstm_model.compile(loss='binary_crossentropy',  optimizer=Adam(learning_rate=learning_rate), metrics=['accuracy'])\n",
    "\n",
    "# Print the model summary\n",
    "char_cnn_lstm_model.summary()"
   ]
  },
  {
   "cell_type": "code",
   "execution_count": 15,
   "id": "ca3f1fd0-5f97-4616-8014-f92997233fe0",
   "metadata": {},
   "outputs": [
    {
     "name": "stdout",
     "output_type": "stream",
     "text": [
      "Epoch 1/20\n",
      "48/48 [==============================] - 5s 34ms/step - loss: 0.6935 - accuracy: 0.5173 - val_loss: 0.6751 - val_accuracy: 0.6292\n",
      "Epoch 2/20\n",
      "48/48 [==============================] - 1s 24ms/step - loss: 0.6742 - accuracy: 0.5996 - val_loss: 0.6423 - val_accuracy: 0.6554\n",
      "Epoch 3/20\n",
      "48/48 [==============================] - 1s 24ms/step - loss: 0.6368 - accuracy: 0.6310 - val_loss: 0.6295 - val_accuracy: 0.6501\n",
      "Epoch 4/20\n",
      "48/48 [==============================] - 1s 24ms/step - loss: 0.6327 - accuracy: 0.6349 - val_loss: 0.6286 - val_accuracy: 0.6527\n",
      "Epoch 5/20\n",
      "48/48 [==============================] - 1s 24ms/step - loss: 0.6318 - accuracy: 0.6368 - val_loss: 0.6563 - val_accuracy: 0.6057\n",
      "Epoch 6/20\n",
      "48/48 [==============================] - 1s 25ms/step - loss: 0.6321 - accuracy: 0.6303 - val_loss: 0.6264 - val_accuracy: 0.6449\n",
      "Epoch 7/20\n",
      "48/48 [==============================] - 1s 26ms/step - loss: 0.6031 - accuracy: 0.6786 - val_loss: 0.6299 - val_accuracy: 0.6789\n",
      "Epoch 8/20\n",
      "48/48 [==============================] - 1s 26ms/step - loss: 0.5806 - accuracy: 0.7008 - val_loss: 0.5724 - val_accuracy: 0.6841\n",
      "Epoch 9/20\n",
      "48/48 [==============================] - 1s 25ms/step - loss: 0.5432 - accuracy: 0.7355 - val_loss: 0.6016 - val_accuracy: 0.6554\n",
      "Epoch 10/20\n",
      "48/48 [==============================] - 1s 24ms/step - loss: 0.5112 - accuracy: 0.7544 - val_loss: 0.5901 - val_accuracy: 0.6658\n",
      "Epoch 11/20\n",
      "48/48 [==============================] - 1s 24ms/step - loss: 0.4866 - accuracy: 0.7825 - val_loss: 0.5787 - val_accuracy: 0.7180\n",
      "Epoch 12/20\n",
      "48/48 [==============================] - 1s 24ms/step - loss: 0.4425 - accuracy: 0.8125 - val_loss: 0.5419 - val_accuracy: 0.7337\n",
      "Epoch 13/20\n",
      "48/48 [==============================] - 1s 24ms/step - loss: 0.4666 - accuracy: 0.7916 - val_loss: 0.5498 - val_accuracy: 0.7311\n",
      "Epoch 14/20\n",
      "48/48 [==============================] - 1s 25ms/step - loss: 0.4080 - accuracy: 0.8210 - val_loss: 0.5693 - val_accuracy: 0.6997\n",
      "Epoch 15/20\n",
      "48/48 [==============================] - 1s 24ms/step - loss: 0.3865 - accuracy: 0.8400 - val_loss: 0.6107 - val_accuracy: 0.7258\n",
      "Epoch 16/20\n",
      "48/48 [==============================] - 1s 25ms/step - loss: 0.3866 - accuracy: 0.8419 - val_loss: 0.6882 - val_accuracy: 0.7389\n",
      "Epoch 17/20\n",
      "48/48 [==============================] - 1s 24ms/step - loss: 0.3418 - accuracy: 0.8759 - val_loss: 0.6353 - val_accuracy: 0.7363\n",
      "Epoch 18/20\n",
      "48/48 [==============================] - 1s 25ms/step - loss: 0.3008 - accuracy: 0.8811 - val_loss: 0.6463 - val_accuracy: 0.7389\n",
      "Epoch 19/20\n",
      "48/48 [==============================] - 1s 24ms/step - loss: 0.3307 - accuracy: 0.8681 - val_loss: 0.5355 - val_accuracy: 0.7415\n",
      "Epoch 20/20\n",
      "48/48 [==============================] - 1s 25ms/step - loss: 0.2785 - accuracy: 0.9020 - val_loss: 0.8077 - val_accuracy: 0.7285\n"
     ]
    }
   ],
   "source": [
    "# Early stopping\n",
    "callback = EarlyStopping(monitor='val_loss', patience=3)\n",
    "\n",
    "# Train the model\n",
    "char_cnn_lstm_history = char_cnn_lstm_model.fit(X_train_tensor, y_train, epochs=20, batch_size=32, validation_split=0.2)#, callbacks=[callback])"
   ]
  },
  {
   "cell_type": "code",
   "execution_count": 16,
   "id": "2a02619d-9c8c-4e90-8dae-55ebe775261e",
   "metadata": {},
   "outputs": [
    {
     "name": "stdout",
     "output_type": "stream",
     "text": [
      "15/15 [==============================] - 0s 7ms/step - loss: 0.7674 - accuracy: 0.7448\n",
      "Test accuracy: 74.477\n",
      "15/15 [==============================] - 0s 6ms/step\n",
      "F1 Score: 0.7300884955752213\n"
     ]
    },
    {
     "name": "stderr",
     "output_type": "stream",
     "text": [
      "C:\\Users\\aysen\\anaconda3\\envs\\hate_speech_classification\\Lib\\site-packages\\sklearn\\utils\\validation.py:605: FutureWarning: is_sparse is deprecated and will be removed in a future version. Check `isinstance(dtype, pd.SparseDtype)` instead.\n",
      "  if is_sparse(pd_dtype):\n",
      "C:\\Users\\aysen\\anaconda3\\envs\\hate_speech_classification\\Lib\\site-packages\\sklearn\\utils\\validation.py:614: FutureWarning: is_sparse is deprecated and will be removed in a future version. Check `isinstance(dtype, pd.SparseDtype)` instead.\n",
      "  if is_sparse(pd_dtype) or not is_extension_array_dtype(pd_dtype):\n",
      "C:\\Users\\aysen\\anaconda3\\envs\\hate_speech_classification\\Lib\\site-packages\\sklearn\\utils\\validation.py:605: FutureWarning: is_sparse is deprecated and will be removed in a future version. Check `isinstance(dtype, pd.SparseDtype)` instead.\n",
      "  if is_sparse(pd_dtype):\n",
      "C:\\Users\\aysen\\anaconda3\\envs\\hate_speech_classification\\Lib\\site-packages\\sklearn\\utils\\validation.py:614: FutureWarning: is_sparse is deprecated and will be removed in a future version. Check `isinstance(dtype, pd.SparseDtype)` instead.\n",
      "  if is_sparse(pd_dtype) or not is_extension_array_dtype(pd_dtype):\n",
      "C:\\Users\\aysen\\anaconda3\\envs\\hate_speech_classification\\Lib\\site-packages\\sklearn\\utils\\validation.py:605: FutureWarning: is_sparse is deprecated and will be removed in a future version. Check `isinstance(dtype, pd.SparseDtype)` instead.\n",
      "  if is_sparse(pd_dtype):\n",
      "C:\\Users\\aysen\\anaconda3\\envs\\hate_speech_classification\\Lib\\site-packages\\sklearn\\utils\\validation.py:614: FutureWarning: is_sparse is deprecated and will be removed in a future version. Check `isinstance(dtype, pd.SparseDtype)` instead.\n",
      "  if is_sparse(pd_dtype) or not is_extension_array_dtype(pd_dtype):\n",
      "C:\\Users\\aysen\\anaconda3\\envs\\hate_speech_classification\\Lib\\site-packages\\sklearn\\utils\\validation.py:605: FutureWarning: is_sparse is deprecated and will be removed in a future version. Check `isinstance(dtype, pd.SparseDtype)` instead.\n",
      "  if is_sparse(pd_dtype):\n",
      "C:\\Users\\aysen\\anaconda3\\envs\\hate_speech_classification\\Lib\\site-packages\\sklearn\\utils\\validation.py:614: FutureWarning: is_sparse is deprecated and will be removed in a future version. Check `isinstance(dtype, pd.SparseDtype)` instead.\n",
      "  if is_sparse(pd_dtype) or not is_extension_array_dtype(pd_dtype):\n",
      "C:\\Users\\aysen\\anaconda3\\envs\\hate_speech_classification\\Lib\\site-packages\\sklearn\\utils\\validation.py:605: FutureWarning: is_sparse is deprecated and will be removed in a future version. Check `isinstance(dtype, pd.SparseDtype)` instead.\n",
      "  if is_sparse(pd_dtype):\n",
      "C:\\Users\\aysen\\anaconda3\\envs\\hate_speech_classification\\Lib\\site-packages\\sklearn\\utils\\validation.py:614: FutureWarning: is_sparse is deprecated and will be removed in a future version. Check `isinstance(dtype, pd.SparseDtype)` instead.\n",
      "  if is_sparse(pd_dtype) or not is_extension_array_dtype(pd_dtype):\n",
      "C:\\Users\\aysen\\anaconda3\\envs\\hate_speech_classification\\Lib\\site-packages\\sklearn\\utils\\validation.py:605: FutureWarning: is_sparse is deprecated and will be removed in a future version. Check `isinstance(dtype, pd.SparseDtype)` instead.\n",
      "  if is_sparse(pd_dtype):\n",
      "C:\\Users\\aysen\\anaconda3\\envs\\hate_speech_classification\\Lib\\site-packages\\sklearn\\utils\\validation.py:614: FutureWarning: is_sparse is deprecated and will be removed in a future version. Check `isinstance(dtype, pd.SparseDtype)` instead.\n",
      "  if is_sparse(pd_dtype) or not is_extension_array_dtype(pd_dtype):\n"
     ]
    }
   ],
   "source": [
    "test_loss, test_acc = char_cnn_lstm_model.evaluate(X_test_tensor, y_test)\n",
    "print(f\"Test accuracy: {test_acc*100:.3f}\")\n",
    "\n",
    "y_pred = char_cnn_lstm_model.predict(X_test_tensor)\n",
    "f1 = f1_score(y_test, y_pred.round())\n",
    "print(f'F1 Score: {f1}')"
   ]
  },
  {
   "cell_type": "code",
   "execution_count": null,
   "id": "7c00e9eb-4bf5-4e4b-8c34-e15357088835",
   "metadata": {},
   "outputs": [],
   "source": []
  }
 ],
 "metadata": {
  "kernelspec": {
   "display_name": "Python 3 (ipykernel)",
   "language": "python",
   "name": "python3"
  },
  "language_info": {
   "codemirror_mode": {
    "name": "ipython",
    "version": 3
   },
   "file_extension": ".py",
   "mimetype": "text/x-python",
   "name": "python",
   "nbconvert_exporter": "python",
   "pygments_lexer": "ipython3",
   "version": "3.11.5"
  }
 },
 "nbformat": 4,
 "nbformat_minor": 5
}
