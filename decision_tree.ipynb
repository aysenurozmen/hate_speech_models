{
 "cells": [
  {
   "cell_type": "code",
   "execution_count": 1,
   "id": "0b648161-2156-4ba8-b67f-8cb4d3545588",
   "metadata": {},
   "outputs": [],
   "source": [
    "import pandas as pd\n",
    "from sklearn.model_selection import train_test_split\n",
    "from sklearn.feature_extraction.text import CountVectorizer\n",
    "from sklearn.tree import DecisionTreeClassifier\n",
    "from sklearn.metrics import accuracy_score, classification_report\n",
    "import nltk\n",
    "from nltk.corpus import stopwords\n",
    "from nltk.tokenize import word_tokenize\n",
    "from nltk.stem import WordNetLemmatizer"
   ]
  },
  {
   "cell_type": "code",
   "execution_count": 2,
   "id": "d46e8a3a-6c3f-44d0-9b4d-e0a5cb8086e9",
   "metadata": {},
   "outputs": [
    {
     "name": "stderr",
     "output_type": "stream",
     "text": [
      "[nltk_data] Downloading package stopwords to\n",
      "[nltk_data]     C:\\Users\\aysen\\AppData\\Roaming\\nltk_data...\n",
      "[nltk_data]   Package stopwords is already up-to-date!\n",
      "[nltk_data] Downloading package punkt to\n",
      "[nltk_data]     C:\\Users\\aysen\\AppData\\Roaming\\nltk_data...\n",
      "[nltk_data]   Package punkt is already up-to-date!\n",
      "[nltk_data] Downloading package wordnet to\n",
      "[nltk_data]     C:\\Users\\aysen\\AppData\\Roaming\\nltk_data...\n",
      "[nltk_data]   Package wordnet is already up-to-date!\n"
     ]
    },
    {
     "data": {
      "text/plain": [
       "True"
      ]
     },
     "execution_count": 2,
     "metadata": {},
     "output_type": "execute_result"
    }
   ],
   "source": [
    "# Download NLTK resources\n",
    "nltk.download('stopwords')\n",
    "nltk.download('punkt')\n",
    "nltk.download('wordnet')"
   ]
  },
  {
   "cell_type": "code",
   "execution_count": 3,
   "id": "5148ec49-0d39-4ef8-bb13-1b154c540350",
   "metadata": {},
   "outputs": [],
   "source": [
    "# Function for text preprocessing\n",
    "def preprocess_text(text):\n",
    "    \n",
    "    # Lowercasing\n",
    "    text = text.lower()\n",
    "\n",
    "    # Tokenization\n",
    "    tokens = word_tokenize(text)\n",
    "\n",
    "    # Removing stopwords and non-alphanumeric characters\n",
    "    stop_words = set(stopwords.words('english'))\n",
    "    tokens = [token for token in tokens if token.isalnum() and token not in stop_words]\n",
    "\n",
    "    # Lemmatization\n",
    "    lemmatizer = WordNetLemmatizer()\n",
    "    tokens = [lemmatizer.lemmatize(token) for token in tokens]\n",
    "\n",
    "    return ' '.join(tokens)"
   ]
  },
  {
   "cell_type": "code",
   "execution_count": 4,
   "id": "f67c1083-a6b4-4d59-aa37-00baf0da66fc",
   "metadata": {},
   "outputs": [
    {
     "name": "stdout",
     "output_type": "stream",
     "text": [
      "Vocabulary Size Preprocessed: 53\n",
      "Vocabulary Size: 111\n"
     ]
    }
   ],
   "source": [
    "# Load datasets\n",
    "train_df = pd.read_csv(\"C:\\\\Users\\\\aysen\\\\Documents\\\\GitHub\\\\hate_speech_models\\\\data\\\\annotations_metadata_train.csv\")\n",
    "test_df = pd.read_csv(\"C:\\\\Users\\\\aysen\\\\Documents\\\\GitHub\\\\hate_speech_models\\\\data\\\\annotations_metadata_test.csv\")\n",
    "\n",
    "# Text preprocessing\n",
    "train_df['preprocessed_text'] = train_df['text'].apply(preprocess_text)\n",
    "test_df['preprocessed_text'] = test_df['text'].apply(preprocess_text)\n",
    "\n",
    "train_tokens = [token for tokens_list in train_df['text'] for token in tokens_list]\n",
    "preprocessed_train_tokens = [token for tokens_list in train_df['preprocessed_text'] for token in tokens_list]\n",
    "\n",
    "vocabulary_size = len(set(train_tokens))\n",
    "vocabulary_size_preprocessed = len(set(preprocessed_train_tokens))\n",
    "\n",
    "print(f'Vocabulary Size Preprocessed: {vocabulary_size_preprocessed}')\n",
    "print(f'Vocabulary Size: {vocabulary_size}')\n",
    "\n",
    "# Split the dataset into training and validation sets\n",
    "train_df, val_df = train_test_split(train_df, test_size=0.2, random_state=42)"
   ]
  },
  {
   "cell_type": "code",
   "execution_count": 17,
   "id": "95193c70-3efb-4436-bf08-ea928d8f6335",
   "metadata": {},
   "outputs": [],
   "source": [
    "# Text vectorization using CountVectorizer\n",
    "vectorizer = CountVectorizer()\n",
    "X_train = vectorizer.fit_transform(train_df['preprocessed_text'])\n",
    "X_val = vectorizer.transform(val_df['preprocessed_text'])\n",
    "X_test = vectorizer.transform(test_df['preprocessed_text'])\n",
    "\n",
    "#X_train = vectorizer.fit_transform(train_df['text'])\n",
    "#X_val = vectorizer.transform(val_df['text'])\n",
    "#X_test = vectorizer.transform(test_df['text'])"
   ]
  },
  {
   "cell_type": "code",
   "execution_count": 18,
   "id": "9ee3dd9a-372c-4d24-b83a-ca553dfb82e6",
   "metadata": {},
   "outputs": [],
   "source": [
    "# Labels\n",
    "y_train = (train_df['label'] == 'hate').astype(int)\n",
    "y_val = (val_df['label'] == 'hate').astype(int)\n",
    "y_test = (test_df['label'] == 'hate').astype(int)"
   ]
  },
  {
   "cell_type": "code",
   "execution_count": 20,
   "id": "1e75d4c5-d545-472c-bc7c-b9d49fa9ffea",
   "metadata": {},
   "outputs": [
    {
     "name": "stdout",
     "output_type": "stream",
     "text": [
      "Best Max Depth: None\n",
      "Best Min Samples Split: 10\n",
      "Best Min Samples Leaf: 1\n",
      "Best Validation Accuracy: 0.7310704960835509\n",
      "Test Accuracy with Best Model: 0.6841004184100419\n"
     ]
    }
   ],
   "source": [
    "# Hyperparameter tuning\n",
    "best_accuracy = 0\n",
    "best_model = None\n",
    "\n",
    "for max_depth in [None, 5, 10, 15]:\n",
    "    for min_samples_split in [2, 5, 10]:\n",
    "        for min_samples_leaf in [1, 2, 4]:\n",
    "            \n",
    "            # Decision tree\n",
    "            tree_classifier = DecisionTreeClassifier(max_depth=max_depth, min_samples_split=min_samples_split, min_samples_leaf=min_samples_leaf)\n",
    "            tree_classifier.fit(X_train, y_train)\n",
    "\n",
    "            # Evaluate on the validation set\n",
    "            val_predictions = tree_classifier.predict(X_val)\n",
    "            val_accuracy = accuracy_score(y_val, val_predictions)\n",
    "\n",
    "            # Check if the current configuration is the best so far\n",
    "            if val_accuracy > best_accuracy:\n",
    "                best_accuracy = val_accuracy\n",
    "                best_model = tree_classifier\n",
    "\n",
    "print(f'Best Max Depth: {best_model.max_depth}')\n",
    "print(f'Best Min Samples Split: {best_model.min_samples_split}')\n",
    "print(f'Best Min Samples Leaf: {best_model.min_samples_leaf}')\n",
    "\n",
    "# Use the best model for evaluation on the test set\n",
    "test_predictions = best_model.predict(X_test)\n",
    "test_accuracy = accuracy_score(y_test, test_predictions)\n",
    "\n",
    "print(f'Best Validation Accuracy: {best_accuracy}')\n",
    "print(f'Test Accuracy with Best Model: {test_accuracy}')"
   ]
  }
 ],
 "metadata": {
  "kernelspec": {
   "display_name": "Python 3 (ipykernel)",
   "language": "python",
   "name": "python3"
  },
  "language_info": {
   "codemirror_mode": {
    "name": "ipython",
    "version": 3
   },
   "file_extension": ".py",
   "mimetype": "text/x-python",
   "name": "python",
   "nbconvert_exporter": "python",
   "pygments_lexer": "ipython3",
   "version": "3.11.5"
  }
 },
 "nbformat": 4,
 "nbformat_minor": 5
}
