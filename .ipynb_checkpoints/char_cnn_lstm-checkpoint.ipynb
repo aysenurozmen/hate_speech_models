{
 "cells": [
  {
   "cell_type": "code",
   "execution_count": 1,
   "id": "33f9a121-124b-410b-9a43-082e8fe80449",
   "metadata": {},
   "outputs": [],
   "source": [
    "# Character-Level CNN-LSTM model from https://doi.org/10.3390/app131911104"
   ]
  },
  {
   "cell_type": "code",
   "execution_count": 2,
   "id": "dbe97993-7f3c-407f-af36-2694e12fe2b6",
   "metadata": {},
   "outputs": [
    {
     "name": "stdout",
     "output_type": "stream",
     "text": [
      "WARNING:tensorflow:From C:\\Users\\aysen\\anaconda3\\envs\\hate_speech_classification\\Lib\\site-packages\\keras\\src\\losses.py:2976: The name tf.losses.sparse_softmax_cross_entropy is deprecated. Please use tf.compat.v1.losses.sparse_softmax_cross_entropy instead.\n",
      "\n"
     ]
    }
   ],
   "source": [
    "import tensorflow as tf\n",
    "from keras.preprocessing.text import Tokenizer\n",
    "from keras.preprocessing.sequence import pad_sequences\n",
    "from keras.models import Sequential\n",
    "from keras.layers import Conv1D, MaxPooling1D, Flatten, Dense, Dropout, LSTM, GlobalMaxPooling1D\n",
    "from keras.optimizers import Adam\n",
    "from keras.callbacks import EarlyStopping\n",
    "from sklearn.model_selection import train_test_split\n",
    "from sklearn.metrics import accuracy_score, classification_report, f1_score\n",
    "from sklearn.preprocessing import LabelEncoder\n",
    "import pandas as pd\n",
    "import re\n",
    "from html import unescape\n",
    "import numpy as np\n",
    "import matplotlib.pyplot as plt\n",
    "import matplotlib.pyplot as plt\n",
    "from matplotlib.ticker import MultipleLocator, FormatStrFormatter"
   ]
  },
  {
   "cell_type": "code",
   "execution_count": 3,
   "id": "a8012391-c0be-44ba-9042-e8eca5f7080d",
   "metadata": {},
   "outputs": [],
   "source": [
    "# Data preprocess\n",
    "def expand_negations(text):\n",
    "    \n",
    "    # Define a list of negations to be expanded\n",
    "    negations = [\"can't\", \"don't\", \"won't\", \"isn't\", \"aren't\", \"wasn't\", \"weren't\", \"haven't\", \"hasn't\", \"hadn't\",\n",
    "                 \"couldn't\", \"shouldn't\", \"mustn't\", \"mightn't\", \"doesn't\", \"didn't\", \"ain't\", \"aint\", \"shan't\"]\n",
    "\n",
    "    # Create a regular expression pattern to match negations\n",
    "    negation_pattern = re.compile(r\"\\b(\" + \"|\".join(negations) + r\")\\b\")\n",
    "\n",
    "    # Replace each negation with its expanded form\n",
    "    expanded_text = negation_pattern.sub(lambda x: expand_single_negation(x.group(0)), text)\n",
    "\n",
    "    return expanded_text\n",
    "\n",
    "def expand_single_negation(negation):\n",
    "    # Define a dictionary mapping each negation to its expanded form\n",
    "    negation_expansions = {\n",
    "        \"can't\": \"cannot\",\n",
    "        \"don't\": \"do not\",\n",
    "        \"won't\": \"will not\",\n",
    "        \"isn't\": \"is not\",\n",
    "        \"aren't\": \"are not\",\n",
    "        \"wasn't\": \"was not\",\n",
    "        \"weren't\": \"were not\",\n",
    "        \"haven't\": \"have not\",\n",
    "        \"hasn't\": \"has not\",\n",
    "        \"hadn't\": \"had not\",\n",
    "        \"couldn't\": \"could not\",\n",
    "        \"shouldn't\": \"should not\",\n",
    "        \"mustn't\": \"must not\",\n",
    "        \"mightn't\": \"might not\",\n",
    "        \"doesn't\": \"does not\",\n",
    "        \"didn't\": \"did not\",\n",
    "        \"ain't\": \"not\",\n",
    "        \"aint\": \"are not\",\n",
    "        \"shan't\": \"shall not\"\n",
    "    }\n",
    "\n",
    "    return negation_expansions.get(negation, negation)\n",
    "    "
   ]
  },
  {
   "cell_type": "code",
   "execution_count": 4,
   "id": "bf4f38df-0e7f-4c39-8aee-66afff18e74f",
   "metadata": {},
   "outputs": [],
   "source": [
    "# Data cleaning from https://doi.org/10.3390/app131911104\n",
    "def preprocess_text(text):\n",
    "    \n",
    "    # Step 1: Decoding HTML\n",
    "    preprocessed_text = unescape(text)\n",
    "    \n",
    "    # Step 2: Removal of emoticons\n",
    "    preprocessed_text = re.sub(r'[\\U00010000-\\U0010ffff]', '', preprocessed_text)\n",
    "    \n",
    "    # Step 3: Removal of mentions (usernames)\n",
    "    preprocessed_text = re.sub(r'@\\w+', '', preprocessed_text)\n",
    "    \n",
    "    # Step 4: Removal of URL links\n",
    "    preprocessed_text = re.sub(r'https?://\\S+|www\\.\\S+', '', preprocessed_text)\n",
    "    \n",
    "    # Step 5: Conversion to lower case\n",
    "    preprocessed_text = preprocessed_text.lower()\n",
    "    \n",
    "    # Step 6: Expansion of negations\n",
    "    preprocessed_text = expand_negations(preprocessed_text)\n",
    "    # Add more negations as needed\n",
    "    \n",
    "    # Step 7: Removal of hashtags, punctuation marks, numbers, and special characters\n",
    "    preprocessed_text = re.sub(r'#[\\w_]+', '', preprocessed_text)\n",
    "    preprocessed_text = re.sub(r'[^a-zA-Z\\s]', '', preprocessed_text)\n",
    "    \n",
    "    # Step 8: Removal of extra white spaces\n",
    "    preprocessed_text = re.sub(r'\\s+', ' ', preprocessed_text).strip()\n",
    "    \n",
    "    return preprocessed_text\n",
    "    "
   ]
  },
  {
   "cell_type": "code",
   "execution_count": 5,
   "id": "7946e18b-6f54-4763-8006-179ede9d540c",
   "metadata": {},
   "outputs": [],
   "source": [
    "def text_to_one_hot(text):\n",
    "    \n",
    "    # English character set\n",
    "    alphabet = \"abcdefghijklmnopqrstuvwxyz \"\n",
    "    unknown_char = \"UNK\"\n",
    "\n",
    "    # Create character-to-index mapping\n",
    "    char_to_index = {char: i for i, char in enumerate(alphabet, start=1)}  # Start index from 1\n",
    "    char_to_index[unknown_char] = 0  # Index 0 for unknown characters\n",
    "\n",
    "    # Preprocess input text\n",
    "    preprocessed_text = preprocess_text(text)\n",
    "\n",
    "    # Tokenize the text into character indices\n",
    "    tokenized_text = [char_to_index.get(char.lower(), char_to_index[unknown_char]) for char in preprocessed_text]\n",
    "    \n",
    "    # Zero-pad to fix the length to 350 characters -> Max length of input texts is 349 without preprocess, 326 with preprocess\n",
    "    max_length = 330\n",
    "    padded_text = pad_sequences([tokenized_text], maxlen=max_length, padding='post', truncating='post')[0]\n",
    "\n",
    "    # One-hot encoding\n",
    "    one_hot_encoding = np.eye(len(alphabet) + 1)[padded_text]  # +1 for the unknown character\n",
    "\n",
    "    return one_hot_encoding\n",
    "    "
   ]
  },
  {
   "cell_type": "code",
   "execution_count": 6,
   "id": "65d9b644-a197-4a54-a9a0-917c39cb64e4",
   "metadata": {},
   "outputs": [
    {
     "name": "stdout",
     "output_type": "stream",
     "text": [
      "The entry with the maximum number of words has index: 1160\n",
      "The maximum number of words is: 326\n",
      "The text of the entry is: the reason y i dropped out of school was because either i drop out or i got kicked out i always fought with the packi gang at my school and i was never going to back down in auto class i handed the n igger a monkey wrench and told him the name suited him aswell all the nonwhites hated me because i wore a nazi punk and a white pride patch on my coat and backpack a got in a fight with some black chick and i won the next day her butchy sister caught up with me in the hall way and said that after school her and i where gonna fight i told her no if u wanna fight we re gonna fight right here right now not after school where u can gather the rest of u monkies up so it s an uneven fight she huffed and stormed away we neevr did get to fight the last straw was the first day of school i had a forgein substitute teacher so i was talkin and and this guy was on my case about turning around and getting my work done he had to ask me this a few times and then finially i stood up and said look i m white ur black i should be telling u whut to do ohhh man my guidance conslour did nt like that nor did my principal this was nt at school this happened a month or so ago but these people went to my school i had a n igger try to rob me at knife point in the forest while his gf sat back and watched my friend came by and jumped him and i personally went after the chick she ran and i caught up to her and smashed her head into a tree thats only some of my stories i got a few more but i dont have the time\n"
     ]
    }
   ],
   "source": [
    "# Load datasets\n",
    "train_df = pd.read_csv(\"C:\\\\Users\\\\aysen\\\\Documents\\\\GitHub\\\\hate_speech_models\\\\data\\\\annotations_metadata_train.csv\")\n",
    "test_df = pd.read_csv(\"C:\\\\Users\\\\aysen\\\\Documents\\\\GitHub\\\\hate_speech_models\\\\data\\\\annotations_metadata_test.csv\")\n",
    "\n",
    "####################################################################################\n",
    "train_df['preprocessed_text'] = train_df['text'].apply(preprocess_text)\n",
    "train_df['num_words'] = train_df['preprocessed_text'].apply(lambda x: len(x.split()))\n",
    "\n",
    "# Find the entry with the maximum number of words\n",
    "max_words_entry = train_df['num_words'].idxmax()\n",
    "\n",
    "# Get the corresponding entry from the DataFrame\n",
    "max_words_text = train_df.loc[max_words_entry, 'preprocessed_text']\n",
    "\n",
    "print(f\"The entry with the maximum number of words has index: {max_words_entry}\")\n",
    "print(f\"The maximum number of words is: {train_df['num_words'].max()}\")\n",
    "print(f\"The text of the entry is: {max_words_text}\")\n",
    "####################################################################################\n",
    "\n",
    "# Text preprocessing\n",
    "X_train_one_hot = train_df['text'].apply(text_to_one_hot)\n",
    "X_test_one_hot = test_df['text'].apply(text_to_one_hot)\n",
    "\n",
    "# Binary label encoding\n",
    "y_train = (train_df['label'] == 'hate').astype(int)\n",
    "y_test = (test_df['label'] == 'hate').astype(int)\n",
    "\n",
    "# Convert pandas series to tensorflow tensors\n",
    "X_train_tensor = tf.convert_to_tensor(X_train_one_hot.tolist(), dtype=tf.float32)\n",
    "X_test_tensor = tf.convert_to_tensor(X_test_one_hot.tolist(), dtype=tf.float32)\n",
    "\n",
    "y_train_tensor = tf.convert_to_tensor(y_train, dtype=tf.float32)\n",
    "y_test_tensor = tf.convert_to_tensor(y_test, dtype=tf.float32)"
   ]
  },
  {
   "cell_type": "code",
   "execution_count": 7,
   "id": "1b854455-bd62-4a6d-be1a-4d2dd09c618d",
   "metadata": {},
   "outputs": [],
   "source": [
    "# Hyperparameters\n",
    "epochs = 20\n",
    "batch_size = 32\n",
    "learning_rate = 0.001\n",
    "patience = 5\n",
    "input_shape = (330, 28)"
   ]
  },
  {
   "cell_type": "code",
   "execution_count": 8,
   "id": "3db221b7-8187-4c26-afa0-3d467ff78c76",
   "metadata": {},
   "outputs": [
    {
     "name": "stdout",
     "output_type": "stream",
     "text": [
      "WARNING:tensorflow:From C:\\Users\\aysen\\anaconda3\\envs\\hate_speech_classification\\Lib\\site-packages\\keras\\src\\backend.py:873: The name tf.get_default_graph is deprecated. Please use tf.compat.v1.get_default_graph instead.\n",
      "\n",
      "WARNING:tensorflow:From C:\\Users\\aysen\\anaconda3\\envs\\hate_speech_classification\\Lib\\site-packages\\keras\\src\\backend.py:6642: The name tf.nn.max_pool is deprecated. Please use tf.nn.max_pool2d instead.\n",
      "\n"
     ]
    }
   ],
   "source": [
    "# Char-Level CNN-LSTM Model\n",
    "char_cnn_lstm_model = Sequential([\n",
    "    \n",
    "    # Three convolution layers\n",
    "    Conv1D(256, kernel_size=3, strides=1, padding='valid', activation='relu', input_shape=input_shape),\n",
    "    Conv1D(256, kernel_size=3, strides=1, padding='valid', activation='relu'),\n",
    "    MaxPooling1D(pool_size=3),\n",
    "    Conv1D(256, kernel_size=3, strides=1, padding='valid', activation='relu'),\n",
    "    MaxPooling1D(pool_size=3),\n",
    "\n",
    "    # LSTM layer\n",
    "    LSTM(100, dropout=0.5, recurrent_dropout=0.5, return_sequences=True),\n",
    "\n",
    "    # Max-pooling layer\n",
    "    #MaxPooling1D(pool_size=3),\n",
    "    # GlobalMaxPooling1D(),\n",
    "    \n",
    "    # Flatten layer\n",
    "    Flatten(),\n",
    "\n",
    "    # Output layer\n",
    "    Dense(units=1, activation='sigmoid')\n",
    "])\n",
    "\n"
   ]
  },
  {
   "cell_type": "code",
   "execution_count": 9,
   "id": "c5d2b599-17f4-4b45-97d4-37eed6d3b6c1",
   "metadata": {},
   "outputs": [
    {
     "name": "stdout",
     "output_type": "stream",
     "text": [
      "Model: \"sequential\"\n",
      "_________________________________________________________________\n",
      " Layer (type)                Output Shape              Param #   \n",
      "=================================================================\n",
      " conv1d (Conv1D)             (None, 328, 100)          8500      \n",
      "                                                                 \n",
      " conv1d_1 (Conv1D)           (None, 326, 100)          30100     \n",
      "                                                                 \n",
      " max_pooling1d (MaxPooling1  (None, 108, 100)          0         \n",
      " D)                                                              \n",
      "                                                                 \n",
      " conv1d_2 (Conv1D)           (None, 106, 100)          30100     \n",
      "                                                                 \n",
      " max_pooling1d_1 (MaxPoolin  (None, 35, 100)           0         \n",
      " g1D)                                                            \n",
      "                                                                 \n",
      " lstm (LSTM)                 (None, 35, 60)            38640     \n",
      "                                                                 \n",
      " flatten (Flatten)           (None, 2100)              0         \n",
      "                                                                 \n",
      " dense (Dense)               (None, 1)                 2101      \n",
      "                                                                 \n",
      "=================================================================\n",
      "Total params: 109441 (427.50 KB)\n",
      "Trainable params: 109441 (427.50 KB)\n",
      "Non-trainable params: 0 (0.00 Byte)\n",
      "_________________________________________________________________\n"
     ]
    }
   ],
   "source": [
    "# Compile the model\n",
    "char_cnn_lstm_model.compile(loss='binary_crossentropy',  optimizer=Adam(learning_rate=learning_rate), metrics=['accuracy'])\n",
    "\n",
    "# Print the model summary\n",
    "char_cnn_lstm_model.summary()"
   ]
  },
  {
   "cell_type": "code",
   "execution_count": 10,
   "id": "86a7a76c-1db5-4a1e-8c56-5511df899bc5",
   "metadata": {},
   "outputs": [
    {
     "name": "stdout",
     "output_type": "stream",
     "text": [
      "Epoch 1/20\n",
      "WARNING:tensorflow:From C:\\Users\\aysen\\anaconda3\\envs\\hate_speech_classification\\Lib\\site-packages\\keras\\src\\utils\\tf_utils.py:492: The name tf.ragged.RaggedTensorValue is deprecated. Please use tf.compat.v1.ragged.RaggedTensorValue instead.\n",
      "\n",
      "WARNING:tensorflow:From C:\\Users\\aysen\\anaconda3\\envs\\hate_speech_classification\\Lib\\site-packages\\keras\\src\\engine\\base_layer_utils.py:384: The name tf.executing_eagerly_outside_functions is deprecated. Please use tf.compat.v1.executing_eagerly_outside_functions instead.\n",
      "\n",
      "48/48 [==============================] - 5s 35ms/step - loss: 0.6543 - accuracy: 0.6146 - val_loss: 0.6193 - val_accuracy: 0.6397\n",
      "Epoch 2/20\n",
      "48/48 [==============================] - 1s 25ms/step - loss: 0.6482 - accuracy: 0.6205 - val_loss: 0.6195 - val_accuracy: 0.6319\n",
      "Epoch 3/20\n",
      "48/48 [==============================] - 1s 26ms/step - loss: 0.6257 - accuracy: 0.6466 - val_loss: 0.6149 - val_accuracy: 0.6815\n",
      "Epoch 4/20\n",
      "48/48 [==============================] - 1s 26ms/step - loss: 0.6164 - accuracy: 0.6558 - val_loss: 0.5949 - val_accuracy: 0.6736\n",
      "Epoch 5/20\n",
      "48/48 [==============================] - 1s 25ms/step - loss: 0.5755 - accuracy: 0.7100 - val_loss: 0.5991 - val_accuracy: 0.6397\n",
      "Epoch 6/20\n",
      "48/48 [==============================] - 1s 27ms/step - loss: 0.5469 - accuracy: 0.7296 - val_loss: 0.5612 - val_accuracy: 0.7050\n",
      "Epoch 7/20\n",
      "48/48 [==============================] - 1s 26ms/step - loss: 0.5073 - accuracy: 0.7675 - val_loss: 0.5536 - val_accuracy: 0.7232\n",
      "Epoch 8/20\n",
      "48/48 [==============================] - 1s 25ms/step - loss: 0.4683 - accuracy: 0.7779 - val_loss: 0.6702 - val_accuracy: 0.6919\n",
      "Epoch 9/20\n",
      "48/48 [==============================] - 1s 25ms/step - loss: 0.4333 - accuracy: 0.7975 - val_loss: 0.5677 - val_accuracy: 0.7154\n",
      "Epoch 10/20\n",
      "48/48 [==============================] - 1s 25ms/step - loss: 0.3656 - accuracy: 0.8517 - val_loss: 0.6996 - val_accuracy: 0.6971\n",
      "Epoch 11/20\n",
      "48/48 [==============================] - 1s 25ms/step - loss: 0.3316 - accuracy: 0.8687 - val_loss: 0.7374 - val_accuracy: 0.6919\n",
      "Epoch 12/20\n",
      "48/48 [==============================] - 1s 26ms/step - loss: 0.2648 - accuracy: 0.8968 - val_loss: 0.8296 - val_accuracy: 0.6632\n",
      "Epoch 13/20\n",
      "48/48 [==============================] - 1s 25ms/step - loss: 0.2775 - accuracy: 0.8883 - val_loss: 0.8872 - val_accuracy: 0.6893\n",
      "Epoch 14/20\n",
      "48/48 [==============================] - 1s 25ms/step - loss: 0.2091 - accuracy: 0.9125 - val_loss: 0.8754 - val_accuracy: 0.7206\n",
      "Epoch 15/20\n",
      "48/48 [==============================] - 1s 25ms/step - loss: 0.1765 - accuracy: 0.9282 - val_loss: 0.9349 - val_accuracy: 0.6919\n",
      "Epoch 16/20\n",
      "48/48 [==============================] - 1s 26ms/step - loss: 0.1664 - accuracy: 0.9379 - val_loss: 1.1905 - val_accuracy: 0.6136\n",
      "Epoch 17/20\n",
      "48/48 [==============================] - 1s 25ms/step - loss: 0.1633 - accuracy: 0.9373 - val_loss: 1.0036 - val_accuracy: 0.6945\n",
      "Epoch 18/20\n",
      "48/48 [==============================] - 1s 26ms/step - loss: 0.1264 - accuracy: 0.9497 - val_loss: 1.0385 - val_accuracy: 0.7023\n",
      "Epoch 19/20\n",
      "48/48 [==============================] - 1s 27ms/step - loss: 0.0936 - accuracy: 0.9615 - val_loss: 1.1010 - val_accuracy: 0.6997\n",
      "Epoch 20/20\n",
      "48/48 [==============================] - 1s 26ms/step - loss: 0.0830 - accuracy: 0.9693 - val_loss: 1.0559 - val_accuracy: 0.7180\n"
     ]
    }
   ],
   "source": [
    "# Early stopping\n",
    "callback = EarlyStopping(monitor='val_loss', patience=patience)\n",
    "\n",
    "# Train the model\n",
    "char_cnn_lstm_history = char_cnn_lstm_model.fit(X_train_tensor, y_train, epochs=epochs, batch_size=batch_size, validation_split=0.2)#, callbacks=[callback])"
   ]
  },
  {
   "cell_type": "code",
   "execution_count": 11,
   "id": "ad61a21f-432b-4cea-a28e-6721c4fa62af",
   "metadata": {},
   "outputs": [],
   "source": [
    "def plot_results(metrics, title=None, ylabel=None, ylim=None, metric_name=None, color=None):\n",
    "     \n",
    "    fig, ax = plt.subplots(figsize=(10, 4))\n",
    " \n",
    "    if not (isinstance(metric_name, list) or isinstance(metric_name, tuple)):\n",
    "        metrics = [metrics,]\n",
    "        metric_name = [metric_name,]\n",
    "         \n",
    "    for idx, metric in enumerate(metrics):    \n",
    "        ax.plot(metric, color=color[idx])\n",
    "     \n",
    "    plt.xlabel(\"Epoch\")\n",
    "    plt.ylabel(ylabel)\n",
    "    plt.title(title)\n",
    "    plt.xlim([0, epochs-1])\n",
    "    plt.ylim(ylim)\n",
    "    # Tailor x-axis tick marks\n",
    "    ax.xaxis.set_major_locator(MultipleLocator(1))\n",
    "    ax.xaxis.set_major_formatter(FormatStrFormatter('%d'))\n",
    "    ax.xaxis.set_minor_locator(MultipleLocator(1))\n",
    "    plt.grid(True)\n",
    "    plt.legend(metric_name)   \n",
    "    plt.show()\n",
    "    plt.close()\n",
    "    "
   ]
  },
  {
   "cell_type": "code",
   "execution_count": 12,
   "id": "837474a0-300b-4441-af43-672f7427e89f",
   "metadata": {},
   "outputs": [
    {
     "data": {
      "image/png": "[encoded data removed]",
      "text/plain": [
       "<Figure size 1000x400 with 1 Axes>"
      ]
     },
     "metadata": {},
     "output_type": "display_data"
    },
    {
     "data": {
      "image/png": "[encoded data removed]",
      "text/plain": [
       "<Figure size 1000x400 with 1 Axes>"
      ]
     },
     "metadata": {},
     "output_type": "display_data"
    }
   ],
   "source": [
    "# Retrieve training results\n",
    "train_loss = char_cnn_lstm_history.history[\"loss\"]\n",
    "train_acc  = char_cnn_lstm_history.history[\"accuracy\"]\n",
    "valid_loss = char_cnn_lstm_history.history[\"val_loss\"]\n",
    "valid_acc  = char_cnn_lstm_history.history[\"val_accuracy\"]\n",
    "   \n",
    "plot_results([ train_loss, valid_loss ],        \n",
    "            ylabel=\"Loss\", \n",
    "            ylim = [0.0, 2.0],\n",
    "            metric_name=[\"Training Loss\", \"Validation Loss\"],\n",
    "            color=[\"g\", \"b\"]);\n",
    " \n",
    "plot_results([ train_acc, valid_acc ], \n",
    "            ylabel=\"Accuracy\",\n",
    "            ylim = [0.0, 1.0],\n",
    "            metric_name=[\"Training Accuracy\", \"Validation Accuracy\"],\n",
    "            color=[\"g\", \"b\"])"
   ]
  },
  {
   "cell_type": "code",
   "execution_count": 13,
   "id": "d552a143-51d0-4912-8137-dc1bb5c0c71f",
   "metadata": {},
   "outputs": [
    {
     "name": "stdout",
     "output_type": "stream",
     "text": [
      "15/15 [==============================] - 0s 7ms/step - loss: 0.9823 - accuracy: 0.7238\n",
      "Test accuracy: 72.385\n",
      "15/15 [==============================] - 0s 6ms/step\n",
      "F1 Score: 0.7441860465116279\n"
     ]
    },
    {
     "name": "stderr",
     "output_type": "stream",
     "text": [
      "C:\\Users\\aysen\\anaconda3\\envs\\hate_speech_classification\\Lib\\site-packages\\sklearn\\utils\\validation.py:605: FutureWarning: is_sparse is deprecated and will be removed in a future version. Check `isinstance(dtype, pd.SparseDtype)` instead.\n",
      "  if is_sparse(pd_dtype):\n",
      "C:\\Users\\aysen\\anaconda3\\envs\\hate_speech_classification\\Lib\\site-packages\\sklearn\\utils\\validation.py:614: FutureWarning: is_sparse is deprecated and will be removed in a future version. Check `isinstance(dtype, pd.SparseDtype)` instead.\n",
      "  if is_sparse(pd_dtype) or not is_extension_array_dtype(pd_dtype):\n",
      "C:\\Users\\aysen\\anaconda3\\envs\\hate_speech_classification\\Lib\\site-packages\\sklearn\\utils\\validation.py:605: FutureWarning: is_sparse is deprecated and will be removed in a future version. Check `isinstance(dtype, pd.SparseDtype)` instead.\n",
      "  if is_sparse(pd_dtype):\n",
      "C:\\Users\\aysen\\anaconda3\\envs\\hate_speech_classification\\Lib\\site-packages\\sklearn\\utils\\validation.py:614: FutureWarning: is_sparse is deprecated and will be removed in a future version. Check `isinstance(dtype, pd.SparseDtype)` instead.\n",
      "  if is_sparse(pd_dtype) or not is_extension_array_dtype(pd_dtype):\n",
      "C:\\Users\\aysen\\anaconda3\\envs\\hate_speech_classification\\Lib\\site-packages\\sklearn\\utils\\validation.py:605: FutureWarning: is_sparse is deprecated and will be removed in a future version. Check `isinstance(dtype, pd.SparseDtype)` instead.\n",
      "  if is_sparse(pd_dtype):\n",
      "C:\\Users\\aysen\\anaconda3\\envs\\hate_speech_classification\\Lib\\site-packages\\sklearn\\utils\\validation.py:614: FutureWarning: is_sparse is deprecated and will be removed in a future version. Check `isinstance(dtype, pd.SparseDtype)` instead.\n",
      "  if is_sparse(pd_dtype) or not is_extension_array_dtype(pd_dtype):\n",
      "C:\\Users\\aysen\\anaconda3\\envs\\hate_speech_classification\\Lib\\site-packages\\sklearn\\utils\\validation.py:605: FutureWarning: is_sparse is deprecated and will be removed in a future version. Check `isinstance(dtype, pd.SparseDtype)` instead.\n",
      "  if is_sparse(pd_dtype):\n",
      "C:\\Users\\aysen\\anaconda3\\envs\\hate_speech_classification\\Lib\\site-packages\\sklearn\\utils\\validation.py:614: FutureWarning: is_sparse is deprecated and will be removed in a future version. Check `isinstance(dtype, pd.SparseDtype)` instead.\n",
      "  if is_sparse(pd_dtype) or not is_extension_array_dtype(pd_dtype):\n",
      "C:\\Users\\aysen\\anaconda3\\envs\\hate_speech_classification\\Lib\\site-packages\\sklearn\\utils\\validation.py:605: FutureWarning: is_sparse is deprecated and will be removed in a future version. Check `isinstance(dtype, pd.SparseDtype)` instead.\n",
      "  if is_sparse(pd_dtype):\n",
      "C:\\Users\\aysen\\anaconda3\\envs\\hate_speech_classification\\Lib\\site-packages\\sklearn\\utils\\validation.py:614: FutureWarning: is_sparse is deprecated and will be removed in a future version. Check `isinstance(dtype, pd.SparseDtype)` instead.\n",
      "  if is_sparse(pd_dtype) or not is_extension_array_dtype(pd_dtype):\n",
      "C:\\Users\\aysen\\anaconda3\\envs\\hate_speech_classification\\Lib\\site-packages\\sklearn\\utils\\validation.py:605: FutureWarning: is_sparse is deprecated and will be removed in a future version. Check `isinstance(dtype, pd.SparseDtype)` instead.\n",
      "  if is_sparse(pd_dtype):\n",
      "C:\\Users\\aysen\\anaconda3\\envs\\hate_speech_classification\\Lib\\site-packages\\sklearn\\utils\\validation.py:614: FutureWarning: is_sparse is deprecated and will be removed in a future version. Check `isinstance(dtype, pd.SparseDtype)` instead.\n",
      "  if is_sparse(pd_dtype) or not is_extension_array_dtype(pd_dtype):\n"
     ]
    }
   ],
   "source": [
    "test_loss, test_acc = char_cnn_lstm_model.evaluate(X_test_tensor, y_test)\n",
    "print(f\"Test accuracy: {test_acc*100:.3f}\")\n",
    "\n",
    "y_pred = char_cnn_lstm_model.predict(X_test_tensor)\n",
    "f1 = f1_score(y_test, y_pred.round())\n",
    "print(f'F1 Score: {f1}')"
   ]
  },
  {
   "cell_type": "code",
   "execution_count": null,
   "id": "a55af86b-31f0-4eea-9511-dbe02b3f7a30",
   "metadata": {},
   "outputs": [],
   "source": []
  }
 ],
 "metadata": {
  "kernelspec": {
   "display_name": "Python 3 (ipykernel)",
   "language": "python",
   "name": "python3"
  },
  "language_info": {
   "codemirror_mode": {
    "name": "ipython",
    "version": 3
   },
   "file_extension": ".py",
   "mimetype": "text/x-python",
   "name": "python",
   "nbconvert_exporter": "python",
   "pygments_lexer": "ipython3",
   "version": "3.11.5"
  }
 },
 "nbformat": 4,
 "nbformat_minor": 5
}
